{
  "nbformat": 4,
  "nbformat_minor": 0,
  "metadata": {
    "colab": {
      "provenance": [],
      "authorship_tag": "ABX9TyNBENcHiT4hRa/MuQAZDAyM",
      "include_colab_link": true
    },
    "kernelspec": {
      "name": "python3",
      "display_name": "Python 3"
    },
    "language_info": {
      "name": "python"
    }
  },
  "cells": [
    {
      "cell_type": "markdown",
      "metadata": {
        "id": "view-in-github",
        "colab_type": "text"
      },
      "source": [
        "<a href=\"https://colab.research.google.com/github/2003UJAN/2003UJAN/blob/main/Laryngeal_Cancer_XAI_DenseNet.ipynb\" target=\"_parent\"><img src=\"https://colab.research.google.com/assets/colab-badge.svg\" alt=\"Open In Colab\"/></a>"
      ]
    },
    {
      "cell_type": "code",
      "execution_count": null,
      "metadata": {
        "id": "eOooUAOygpB2"
      },
      "outputs": [],
      "source": [
        "!pip install pytorch_metric_learning"
      ]
    },
    {
      "cell_type": "code",
      "source": [
        "!pip install grad-cam"
      ],
      "metadata": {
        "id": "SS-9Hcpag99e"
      },
      "execution_count": null,
      "outputs": []
    },
    {
      "cell_type": "code",
      "source": [
        "import torch\n",
        "import torch.nn as nn\n",
        "import torch.optim as optim\n",
        "from torchvision import datasets, transforms\n",
        "from torch.utils.data import DataLoader\n",
        "from sklearn.metrics import accuracy_score\n",
        "from pytorch_metric_learning import losses\n",
        "from pytorch_grad_cam import GradCAM\n",
        "from pytorch_grad_cam.utils.image import show_cam_on_image\n",
        "import matplotlib.pyplot as plt\n",
        "from torchvision.models import densenet121\n",
        "import zipfile\n",
        "import os"
      ],
      "metadata": {
        "id": "VuuLEEE4g_rV"
      },
      "execution_count": null,
      "outputs": []
    },
    {
      "cell_type": "code",
      "source": [
        "zip_path = 'archive.zip'\n",
        "extract_path = '.'\n",
        "with zipfile.ZipFile(zip_path, 'r') as zip_ref:\n",
        "    zip_ref.extractall(extract_path)"
      ],
      "metadata": {
        "id": "JyudYvlEhBs5"
      },
      "execution_count": null,
      "outputs": []
    },
    {
      "cell_type": "code",
      "source": [
        "dataset_path = os.path.join(extract_path, 'laryngeal dataset', 'laryngeal dataset')"
      ],
      "metadata": {
        "id": "LXDVps40hDwG"
      },
      "execution_count": null,
      "outputs": []
    },
    {
      "cell_type": "code",
      "source": [
        "transform = transforms.Compose([\n",
        "    transforms.Grayscale(num_output_channels=3),\n",
        "    transforms.Resize((100, 100)),\n",
        "    transforms.ToTensor()\n",
        "])"
      ],
      "metadata": {
        "id": "sfKX6QxUhF--"
      },
      "execution_count": null,
      "outputs": []
    },
    {
      "cell_type": "code",
      "source": [
        "ef load_dataset(root_path, transform):\n",
        "    return datasets.ImageFolder(root=root_path, transform=transform)"
      ],
      "metadata": {
        "id": "3XaXBqjnhJrm"
      },
      "execution_count": null,
      "outputs": []
    },
    {
      "cell_type": "code",
      "source": [
        "fold1_path = os.path.join(dataset_path, 'FOLD 1')\n",
        "fold2_path = os.path.join(dataset_path, 'FOLD 2')\n",
        "fold3_path = os.path.join(dataset_path, 'FOLD 3')"
      ],
      "metadata": {
        "id": "P-912IY7hMSJ"
      },
      "execution_count": null,
      "outputs": []
    },
    {
      "cell_type": "code",
      "source": [
        "train_data = load_dataset(fold1_path, transform)\n",
        "val_data = load_dataset(fold2_path, transform)\n",
        "test_data = load_dataset(fold3_path, transform)"
      ],
      "metadata": {
        "id": "22MwOq78hPKM"
      },
      "execution_count": null,
      "outputs": []
    },
    {
      "cell_type": "code",
      "source": [
        "train_loader = DataLoader(train_data, batch_size=32, shuffle=True)\n",
        "val_loader = DataLoader(val_data, batch_size=32, shuffle=False)\n",
        "test_loader = DataLoader(test_data, batch_size=32, shuffle=False)"
      ],
      "metadata": {
        "id": "Tm35Hu0UhR3Y"
      },
      "execution_count": null,
      "outputs": []
    },
    {
      "cell_type": "code",
      "source": [
        "class DenseNetPrototypicalNetwork(nn.Module):\n",
        "    def __init__(self, embedding_dim, num_classes):\n",
        "        super(DenseNetPrototypicalNetwork, self).__init__()\n",
        "        self.densenet = densenet121(pretrained=True)\n",
        "        self.densenet.classifier = nn.Linear(self.densenet.classifier.in_features, embedding_dim)\n",
        "        self.classifier = nn.Linear(embedding_dim, num_classes)\n",
        "\n",
        "    def forward(self, x):\n",
        "        features = self.densenet.features(x)\n",
        "        features = torch.flatten(features, start_dim=1)\n",
        "        embeddings = self.densenet.classifier(features)\n",
        "        logits = self.classifier(embeddings)\n",
        "        return logits"
      ],
      "metadata": {
        "id": "f_B1PVEehVax"
      },
      "execution_count": null,
      "outputs": []
    },
    {
      "cell_type": "code",
      "source": [
        "device = torch.device('cuda' if torch.cuda.is_available() else 'cpu')"
      ],
      "metadata": {
        "id": "HUt1GKe0hawc"
      },
      "execution_count": null,
      "outputs": []
    },
    {
      "cell_type": "code",
      "source": [
        "embedding_dim = 64\n",
        "num_classes = len(train_data.classes)\n",
        "model = DenseNetPrototypicalNetwork(embedding_dim, num_classes).to(device)\n",
        "optimizer = optim.AdamW(model.parameters(), lr=0.001)\n",
        "scheduler = optim.lr_scheduler.StepLR(optimizer, step_size=10, gamma=0.7)\n",
        "criterion = nn.CrossEntropyLoss()"
      ],
      "metadata": {
        "id": "p8gHMMjehdUd"
      },
      "execution_count": null,
      "outputs": []
    },
    {
      "cell_type": "code",
      "source": [
        "def compute_accuracy(loader):\n",
        "    model.eval()\n",
        "    correct = 0\n",
        "    total = 0\n",
        "    with torch.no_grad():\n",
        "        for images, labels in loader:\n",
        "            images, labels = images.to(device), labels.to(device)\n",
        "            logits = model(images)\n",
        "            predictions = torch.argmax(logits, dim=1)\n",
        "            correct += (predictions == labels).sum().item()\n",
        "            total += labels.size(0)\n",
        "    return correct / total\n",
        "\n",
        "for epoch in range(40):\n",
        "    model.train()\n",
        "    running_loss = 0.0\n",
        "    for images, labels in train_loader:\n",
        "        images, labels = images.to(device), labels.to(device)\n",
        "        logits = model(images)\n",
        "        loss = criterion(logits, labels)\n",
        "        optimizer.zero_grad()\n",
        "        loss.backward()\n",
        "        optimizer.step()\n",
        "        running_loss += loss.item()\n",
        "\n",
        "    scheduler.step()\n",
        "    train_acc = compute_accuracy(train_loader)\n",
        "    val_acc = compute_accuracy(val_loader)\n",
        "\n",
        "    print(f'Epoch {epoch+1}, Loss: {running_loss/len(train_loader)}, '\n",
        "          f'Train Accuracy: {train_acc*100:.2f}%, Val Accuracy: {val_acc*100:.2f}%')\n",
        "\n",
        "test_acc = compute_accuracy(test_loader)\n",
        "print(f'Test Accuracy: {test_acc*100:.2f}%')"
      ],
      "metadata": {
        "id": "mtADhAUVhga6"
      },
      "execution_count": null,
      "outputs": []
    },
    {
      "cell_type": "code",
      "source": [
        "def generate_gradcam(model, image, target_layer):\n",
        "    model.eval()\n",
        "    if image.shape[0] != model.densenet.features[0].weight.shape[1]:\n",
        "        image = image.repeat(model.densenet.features[0].weight.shape[1], 1, 1)\n",
        "    cam = GradCAM(model=model, target_layers=[target_layer])\n",
        "    grayscale_cam = cam(input_tensor=image.unsqueeze(0))[0, :]\n",
        "    image = image.permute(1, 2, 0).cpu().numpy()\n",
        "    cam_image = show_cam_on_image(image, grayscale_cam, use_rgb=True)\n",
        "    return cam_image"
      ],
      "metadata": {
        "id": "fKlzzzf4hirF"
      },
      "execution_count": null,
      "outputs": []
    },
    {
      "cell_type": "code",
      "source": [
        "test_iter = iter(test_loader)\n",
        "images, labels = next(test_iter)\n",
        "image = images[0].to(device)\n",
        "target_layer = model.densenet.features[-1]\n",
        "cam_image = generate_gradcam(model, image, target_layer"
      ],
      "metadata": {
        "id": "b2i-4uXKhk6-"
      },
      "execution_count": null,
      "outputs": []
    },
    {
      "cell_type": "code",
      "source": [
        "plt.imshow(cam_image)\n",
        "plt.title('Grad-CAM')\n",
        "plt.show()"
      ],
      "metadata": {
        "id": "xQsLoYs0hm2N"
      },
      "execution_count": null,
      "outputs": []
    }
  ]
}